{
 "metadata": {
  "language_info": {
   "codemirror_mode": {
    "name": "ipython",
    "version": 3
   },
   "file_extension": ".py",
   "mimetype": "text/x-python",
   "name": "python",
   "nbconvert_exporter": "python",
   "pygments_lexer": "ipython3",
   "version": "3.6.11-final"
  },
  "orig_nbformat": 2,
  "kernelspec": {
   "name": "python3",
   "display_name": "Python 3",
   "language": "python"
  }
 },
 "nbformat": 4,
 "nbformat_minor": 2,
 "cells": [
  {
   "source": [
    "# Classifying Covid Coughs with Audio Data\n"
   ],
   "cell_type": "markdown",
   "metadata": {}
  },
  {
   "source": [
    "- Keras Tutorial/Example Audio Classification:\n",
    "    - https://colab.research.google.com/github/keras-team/keras-io/blob/master/examples/audio/ipynb/speaker_recognition_using_cnn.ipynb#scrollTo=wGOfRGTi-erq\n",
    "    - [Dataset Download Link](https://www.kaggle.com/kongaevans/speaker-recognition-dataset/download)\n",
    "        - `~/Datasets/16000_pcm_speeches/`"
   ],
   "cell_type": "markdown",
   "metadata": {}
  },
  {
   "source": [
    "- 12/14/20"
   ],
   "cell_type": "markdown",
   "metadata": {}
  },
  {
   "cell_type": "code",
   "execution_count": 2,
   "metadata": {},
   "outputs": [
    {
     "output_type": "stream",
     "name": "stdout",
     "text": [
      "fsds v0.2.27 loaded.  Read the docs: https://fs-ds.readthedocs.io/en/latest/ \n"
     ]
    },
    {
     "output_type": "display_data",
     "data": {
      "text/plain": "<pandas.io.formats.style.Styler at 0x7f932239cc10>",
      "text/html": "<style  type=\"text/css\" >\n</style><table id=\"T_5d7430e4_3e4d_11eb_aee8_acde48001122\" ><caption>Loaded Packages and Handles</caption><thead>    <tr>        <th class=\"col_heading level0 col0\" >Handle</th>        <th class=\"col_heading level0 col1\" >Package</th>        <th class=\"col_heading level0 col2\" >Description</th>    </tr></thead><tbody>\n                <tr>\n                                <td id=\"T_5d7430e4_3e4d_11eb_aee8_acde48001122row0_col0\" class=\"data row0 col0\" >dp</td>\n                        <td id=\"T_5d7430e4_3e4d_11eb_aee8_acde48001122row0_col1\" class=\"data row0 col1\" >IPython.display</td>\n                        <td id=\"T_5d7430e4_3e4d_11eb_aee8_acde48001122row0_col2\" class=\"data row0 col2\" >Display modules with helpful display and clearing commands.</td>\n            </tr>\n            <tr>\n                                <td id=\"T_5d7430e4_3e4d_11eb_aee8_acde48001122row1_col0\" class=\"data row1 col0\" >fs</td>\n                        <td id=\"T_5d7430e4_3e4d_11eb_aee8_acde48001122row1_col1\" class=\"data row1 col1\" >fsds</td>\n                        <td id=\"T_5d7430e4_3e4d_11eb_aee8_acde48001122row1_col2\" class=\"data row1 col2\" >Custom data science bootcamp student package</td>\n            </tr>\n            <tr>\n                                <td id=\"T_5d7430e4_3e4d_11eb_aee8_acde48001122row2_col0\" class=\"data row2 col0\" >mpl</td>\n                        <td id=\"T_5d7430e4_3e4d_11eb_aee8_acde48001122row2_col1\" class=\"data row2 col1\" >matplotlib</td>\n                        <td id=\"T_5d7430e4_3e4d_11eb_aee8_acde48001122row2_col2\" class=\"data row2 col2\" >Matplotlib's base OOP module with formatting artists</td>\n            </tr>\n            <tr>\n                                <td id=\"T_5d7430e4_3e4d_11eb_aee8_acde48001122row3_col0\" class=\"data row3 col0\" >plt</td>\n                        <td id=\"T_5d7430e4_3e4d_11eb_aee8_acde48001122row3_col1\" class=\"data row3 col1\" >matplotlib.pyplot</td>\n                        <td id=\"T_5d7430e4_3e4d_11eb_aee8_acde48001122row3_col2\" class=\"data row3 col2\" >Matplotlib's matlab-like plotting module</td>\n            </tr>\n            <tr>\n                                <td id=\"T_5d7430e4_3e4d_11eb_aee8_acde48001122row4_col0\" class=\"data row4 col0\" >np</td>\n                        <td id=\"T_5d7430e4_3e4d_11eb_aee8_acde48001122row4_col1\" class=\"data row4 col1\" >numpy</td>\n                        <td id=\"T_5d7430e4_3e4d_11eb_aee8_acde48001122row4_col2\" class=\"data row4 col2\" >scientific computing with Python</td>\n            </tr>\n            <tr>\n                                <td id=\"T_5d7430e4_3e4d_11eb_aee8_acde48001122row5_col0\" class=\"data row5 col0\" >pd</td>\n                        <td id=\"T_5d7430e4_3e4d_11eb_aee8_acde48001122row5_col1\" class=\"data row5 col1\" >pandas</td>\n                        <td id=\"T_5d7430e4_3e4d_11eb_aee8_acde48001122row5_col2\" class=\"data row5 col2\" >High performance data structures and tools</td>\n            </tr>\n            <tr>\n                                <td id=\"T_5d7430e4_3e4d_11eb_aee8_acde48001122row6_col0\" class=\"data row6 col0\" >sns</td>\n                        <td id=\"T_5d7430e4_3e4d_11eb_aee8_acde48001122row6_col1\" class=\"data row6 col1\" >seaborn</td>\n                        <td id=\"T_5d7430e4_3e4d_11eb_aee8_acde48001122row6_col2\" class=\"data row6 col2\" >High-level data visualization library based on matplotlib</td>\n            </tr>\n    </tbody></table>"
     },
     "metadata": {}
    },
    {
     "output_type": "display_data",
     "data": {
      "text/html": "        <script type=\"text/javascript\">\n        window.PlotlyConfig = {MathJaxConfig: 'local'};\n        if (window.MathJax) {MathJax.Hub.Config({SVG: {font: \"STIX-Web\"}});}\n        if (typeof require !== 'undefined') {\n        require.undef(\"plotly\");\n        requirejs.config({\n            paths: {\n                'plotly': ['https://cdn.plot.ly/plotly-latest.min']\n            }\n        });\n        require(['plotly'], function(Plotly) {\n            window._Plotly = Plotly;\n        });\n        }\n        </script>\n        "
     },
     "metadata": {}
    },
    {
     "output_type": "display_data",
     "data": {
      "text/html": "        <script type=\"text/javascript\">\n        window.PlotlyConfig = {MathJaxConfig: 'local'};\n        if (window.MathJax) {MathJax.Hub.Config({SVG: {font: \"STIX-Web\"}});}\n        if (typeof require !== 'undefined') {\n        require.undef(\"plotly\");\n        requirejs.config({\n            paths: {\n                'plotly': ['https://cdn.plot.ly/plotly-latest.min']\n            }\n        });\n        require(['plotly'], function(Plotly) {\n            window._Plotly = Plotly;\n        });\n        }\n        </script>\n        "
     },
     "metadata": {}
    },
    {
     "output_type": "stream",
     "name": "stdout",
     "text": [
      "[i] Pandas .iplot() method activated.\n"
     ]
    }
   ],
   "source": [
    "# !pip install -U fsds\n",
    "from fsds.imports import *"
   ]
  },
  {
   "cell_type": "code",
   "execution_count": 1,
   "metadata": {},
   "outputs": [
    {
     "output_type": "stream",
     "name": "stdout",
     "text": [
      "Collecting tensorflow\n",
      "\u001b[?25l  Downloading https://files.pythonhosted.org/packages/65/22/d736ea8264a48251d29f1d6991c0436ae66f2b233ad98450013100edda46/tensorflow-2.4.0-cp36-cp36m-macosx_10_11_x86_64.whl (175.4MB)\n",
      "\u001b[K     |████████████████████████████████| 175.4MB 11.8MB/s \n",
      "\u001b[?25hRequirement already satisfied, skipping upgrade: astunparse~=1.6.3 in /opt/anaconda3/envs/learn-env/lib/python3.6/site-packages (from tensorflow) (1.6.3)\n",
      "Collecting numpy~=1.19.2 (from tensorflow)\n",
      "  Using cached https://files.pythonhosted.org/packages/03/21/f72ec478fba7db3a4ab7a57867115a7275e48015adacb33caae2dad96f63/numpy-1.19.4-cp36-cp36m-macosx_10_9_x86_64.whl\n",
      "Requirement already satisfied, skipping upgrade: typing-extensions~=3.7.4 in /opt/anaconda3/envs/learn-env/lib/python3.6/site-packages (from tensorflow) (3.7.4.2)\n",
      "Requirement already satisfied, skipping upgrade: gast==0.3.3 in /opt/anaconda3/envs/learn-env/lib/python3.6/site-packages (from tensorflow) (0.3.3)\n",
      "Requirement already satisfied, skipping upgrade: absl-py~=0.10 in /opt/anaconda3/envs/learn-env/lib/python3.6/site-packages (from tensorflow) (0.10.0)\n",
      "Requirement already satisfied, skipping upgrade: google-pasta~=0.2 in /opt/anaconda3/envs/learn-env/lib/python3.6/site-packages (from tensorflow) (0.2.0)\n",
      "Requirement already satisfied, skipping upgrade: protobuf>=3.9.2 in /opt/anaconda3/envs/learn-env/lib/python3.6/site-packages (from tensorflow) (3.13.0)\n",
      "Collecting grpcio~=1.32.0 (from tensorflow)\n",
      "\u001b[?25l  Downloading https://files.pythonhosted.org/packages/02/2f/787b1ae60455f42e88969e2d1cbc7ad34c9cc3d7945e11f3d6ac9b7a8325/grpcio-1.32.0-cp36-cp36m-macosx_10_9_x86_64.whl (3.3MB)\n",
      "\u001b[K     |████████████████████████████████| 3.3MB 3.3MB/s \n",
      "\u001b[?25hRequirement already satisfied, skipping upgrade: six~=1.15.0 in /opt/anaconda3/envs/learn-env/lib/python3.6/site-packages (from tensorflow) (1.15.0)\n",
      "Requirement already satisfied, skipping upgrade: wheel~=0.35 in /opt/anaconda3/envs/learn-env/lib/python3.6/site-packages (from tensorflow) (0.36.1)\n",
      "Requirement already satisfied, skipping upgrade: termcolor~=1.1.0 in /opt/anaconda3/envs/learn-env/lib/python3.6/site-packages (from tensorflow) (1.1.0)\n",
      "Requirement already satisfied, skipping upgrade: wrapt~=1.12.1 in /opt/anaconda3/envs/learn-env/lib/python3.6/site-packages (from tensorflow) (1.12.1)\n",
      "Requirement already satisfied, skipping upgrade: keras-preprocessing~=1.1.2 in /opt/anaconda3/envs/learn-env/lib/python3.6/site-packages (from tensorflow) (1.1.2)\n",
      "Requirement already satisfied, skipping upgrade: h5py~=2.10.0 in /opt/anaconda3/envs/learn-env/lib/python3.6/site-packages (from tensorflow) (2.10.0)\n",
      "Collecting tensorflow-estimator<2.5.0,>=2.4.0rc0 (from tensorflow)\n",
      "\u001b[?25l  Downloading https://files.pythonhosted.org/packages/84/89/5d041ec47d50ab9beeeb14158258d3e4835596cf5dd809e887ead46a7f23/tensorflow_estimator-2.4.0rc0-py2.py3-none-any.whl (462kB)\n",
      "\u001b[K     |████████████████████████████████| 471kB 8.6MB/s \n",
      "\u001b[?25hCollecting flatbuffers~=1.12.0 (from tensorflow)\n",
      "  Downloading https://files.pythonhosted.org/packages/eb/26/712e578c5f14e26ae3314c39a1bdc4eb2ec2f4ddc89b708cf8e0a0d20423/flatbuffers-1.12-py2.py3-none-any.whl\n",
      "Collecting tensorboard~=2.4 (from tensorflow)\n",
      "\u001b[?25l  Downloading https://files.pythonhosted.org/packages/02/83/179c8f76e5716030cc3ee9433721161cfcc1d854e9ba20c9205180bb100a/tensorboard-2.4.0-py3-none-any.whl (10.6MB)\n",
      "\u001b[K     |████████████████████████████████| 10.6MB 11.8MB/s \n",
      "\u001b[?25hRequirement already satisfied, skipping upgrade: opt-einsum~=3.3.0 in /opt/anaconda3/envs/learn-env/lib/python3.6/site-packages (from tensorflow) (3.3.0)\n",
      "Requirement already satisfied, skipping upgrade: setuptools in /Users/jamesirving/.local/lib/python3.6/site-packages (from protobuf>=3.9.2->tensorflow) (46.1.2)\n",
      "Requirement already satisfied, skipping upgrade: tensorboard-plugin-wit>=1.6.0 in /opt/anaconda3/envs/learn-env/lib/python3.6/site-packages (from tensorboard~=2.4->tensorflow) (1.7.0)\n",
      "Requirement already satisfied, skipping upgrade: markdown>=2.6.8 in /opt/anaconda3/envs/learn-env/lib/python3.6/site-packages (from tensorboard~=2.4->tensorflow) (3.3.2)\n",
      "Requirement already satisfied, skipping upgrade: google-auth<2,>=1.6.3 in /opt/anaconda3/envs/learn-env/lib/python3.6/site-packages (from tensorboard~=2.4->tensorflow) (1.22.0)\n",
      "Requirement already satisfied, skipping upgrade: requests<3,>=2.21.0 in /opt/anaconda3/envs/learn-env/lib/python3.6/site-packages (from tensorboard~=2.4->tensorflow) (2.24.0)\n",
      "Requirement already satisfied, skipping upgrade: werkzeug>=0.11.15 in /opt/anaconda3/envs/learn-env/lib/python3.6/site-packages (from tensorboard~=2.4->tensorflow) (1.0.1)\n",
      "Requirement already satisfied, skipping upgrade: google-auth-oauthlib<0.5,>=0.4.1 in /opt/anaconda3/envs/learn-env/lib/python3.6/site-packages (from tensorboard~=2.4->tensorflow) (0.4.1)\n",
      "Requirement already satisfied, skipping upgrade: importlib-metadata; python_version < \"3.8\" in /opt/anaconda3/envs/learn-env/lib/python3.6/site-packages (from markdown>=2.6.8->tensorboard~=2.4->tensorflow) (1.7.0)\n",
      "Requirement already satisfied, skipping upgrade: pyasn1-modules>=0.2.1 in /opt/anaconda3/envs/learn-env/lib/python3.6/site-packages (from google-auth<2,>=1.6.3->tensorboard~=2.4->tensorflow) (0.2.7)\n",
      "Requirement already satisfied, skipping upgrade: cachetools<5.0,>=2.0.0 in /opt/anaconda3/envs/learn-env/lib/python3.6/site-packages (from google-auth<2,>=1.6.3->tensorboard~=2.4->tensorflow) (4.1.1)\n",
      "Requirement already satisfied, skipping upgrade: rsa<5,>=3.1.4; python_version >= \"3.5\" in /opt/anaconda3/envs/learn-env/lib/python3.6/site-packages (from google-auth<2,>=1.6.3->tensorboard~=2.4->tensorflow) (4.6)\n",
      "Requirement already satisfied, skipping upgrade: aiohttp<4.0.0dev,>=3.6.2; python_version >= \"3.6\" in /opt/anaconda3/envs/learn-env/lib/python3.6/site-packages (from google-auth<2,>=1.6.3->tensorboard~=2.4->tensorflow) (3.6.2)\n",
      "Requirement already satisfied, skipping upgrade: urllib3!=1.25.0,!=1.25.1,<1.26,>=1.21.1 in /opt/anaconda3/envs/learn-env/lib/python3.6/site-packages (from requests<3,>=2.21.0->tensorboard~=2.4->tensorflow) (1.25.11)\n",
      "Requirement already satisfied, skipping upgrade: idna<3,>=2.5 in /opt/anaconda3/envs/learn-env/lib/python3.6/site-packages (from requests<3,>=2.21.0->tensorboard~=2.4->tensorflow) (2.10)\n",
      "Requirement already satisfied, skipping upgrade: certifi>=2017.4.17 in /opt/anaconda3/envs/learn-env/lib/python3.6/site-packages (from requests<3,>=2.21.0->tensorboard~=2.4->tensorflow) (2020.6.20)\n",
      "Requirement already satisfied, skipping upgrade: chardet<4,>=3.0.2 in /opt/anaconda3/envs/learn-env/lib/python3.6/site-packages (from requests<3,>=2.21.0->tensorboard~=2.4->tensorflow) (3.0.4)\n",
      "Requirement already satisfied, skipping upgrade: requests-oauthlib>=0.7.0 in /opt/anaconda3/envs/learn-env/lib/python3.6/site-packages (from google-auth-oauthlib<0.5,>=0.4.1->tensorboard~=2.4->tensorflow) (1.3.0)\n",
      "Requirement already satisfied, skipping upgrade: zipp>=0.5 in /opt/anaconda3/envs/learn-env/lib/python3.6/site-packages (from importlib-metadata; python_version < \"3.8\"->markdown>=2.6.8->tensorboard~=2.4->tensorflow) (3.3.0)\n",
      "Requirement already satisfied, skipping upgrade: pyasn1<0.5.0,>=0.4.6 in /opt/anaconda3/envs/learn-env/lib/python3.6/site-packages (from pyasn1-modules>=0.2.1->google-auth<2,>=1.6.3->tensorboard~=2.4->tensorflow) (0.4.8)\n",
      "Requirement already satisfied, skipping upgrade: idna-ssl>=1.0; python_version < \"3.7\" in /opt/anaconda3/envs/learn-env/lib/python3.6/site-packages (from aiohttp<4.0.0dev,>=3.6.2; python_version >= \"3.6\"->google-auth<2,>=1.6.3->tensorboard~=2.4->tensorflow) (1.1.0)\n",
      "Requirement already satisfied, skipping upgrade: attrs>=17.3.0 in /opt/anaconda3/envs/learn-env/lib/python3.6/site-packages (from aiohttp<4.0.0dev,>=3.6.2; python_version >= \"3.6\"->google-auth<2,>=1.6.3->tensorboard~=2.4->tensorflow) (19.3.0)\n",
      "Requirement already satisfied, skipping upgrade: yarl<2.0,>=1.0 in /opt/anaconda3/envs/learn-env/lib/python3.6/site-packages (from aiohttp<4.0.0dev,>=3.6.2; python_version >= \"3.6\"->google-auth<2,>=1.6.3->tensorboard~=2.4->tensorflow) (1.5.1)\n",
      "Requirement already satisfied, skipping upgrade: async-timeout<4.0,>=3.0 in /opt/anaconda3/envs/learn-env/lib/python3.6/site-packages (from aiohttp<4.0.0dev,>=3.6.2; python_version >= \"3.6\"->google-auth<2,>=1.6.3->tensorboard~=2.4->tensorflow) (3.0.1)\n",
      "Requirement already satisfied, skipping upgrade: multidict<5.0,>=4.5 in /opt/anaconda3/envs/learn-env/lib/python3.6/site-packages (from aiohttp<4.0.0dev,>=3.6.2; python_version >= \"3.6\"->google-auth<2,>=1.6.3->tensorboard~=2.4->tensorflow) (4.7.6)\n",
      "Requirement already satisfied, skipping upgrade: oauthlib>=3.0.0 in /opt/anaconda3/envs/learn-env/lib/python3.6/site-packages (from requests-oauthlib>=0.7.0->google-auth-oauthlib<0.5,>=0.4.1->tensorboard~=2.4->tensorflow) (3.1.0)\n",
      "\u001b[31mERROR: featuretools 0.21.0 has requirement pandas!=1.1.0,!=1.1.1,<2.0.0,>=0.24.1, but you'll have pandas 1.1.1 which is incompatible.\u001b[0m\n",
      "Installing collected packages: numpy, grpcio, tensorflow-estimator, flatbuffers, tensorboard, tensorflow\n",
      "  Found existing installation: numpy 1.18.5\n",
      "    Uninstalling numpy-1.18.5:\n",
      "      Successfully uninstalled numpy-1.18.5\n",
      "  Found existing installation: grpcio 1.31.0\n",
      "    Uninstalling grpcio-1.31.0:\n",
      "      Successfully uninstalled grpcio-1.31.0\n",
      "  Found existing installation: tensorflow-estimator 2.3.0\n",
      "    Uninstalling tensorflow-estimator-2.3.0:\n",
      "      Successfully uninstalled tensorflow-estimator-2.3.0\n",
      "  Found existing installation: tensorboard 2.3.0\n",
      "    Uninstalling tensorboard-2.3.0:\n",
      "      Successfully uninstalled tensorboard-2.3.0\n",
      "  Found existing installation: tensorflow 2.3.1\n",
      "    Uninstalling tensorflow-2.3.1:\n",
      "      Successfully uninstalled tensorflow-2.3.1\n",
      "Successfully installed flatbuffers-1.12 grpcio-1.32.0 numpy-1.19.4 tensorboard-2.4.0 tensorflow-2.4.0 tensorflow-estimator-2.4.0rc0\n"
     ]
    },
    {
     "output_type": "error",
     "ename": "ModuleNotFoundError",
     "evalue": "No module named 'tensorflow'",
     "traceback": [
      "\u001b[0;31m---------------------------------------------------------------------------\u001b[0m",
      "\u001b[0;31mModuleNotFoundError\u001b[0m                       Traceback (most recent call last)",
      "\u001b[0;32m<ipython-input-1-1835d5514270>\u001b[0m in \u001b[0;36m<module>\u001b[0;34m\u001b[0m\n\u001b[1;32m      1\u001b[0m \u001b[0mget_ipython\u001b[0m\u001b[0;34m(\u001b[0m\u001b[0;34m)\u001b[0m\u001b[0;34m.\u001b[0m\u001b[0msystem\u001b[0m\u001b[0;34m(\u001b[0m\u001b[0;34m'pip install -U tensorflow'\u001b[0m\u001b[0;34m)\u001b[0m\u001b[0;34m\u001b[0m\u001b[0;34m\u001b[0m\u001b[0m\n\u001b[0;32m----> 2\u001b[0;31m \u001b[0;32mimport\u001b[0m \u001b[0mtensorflow\u001b[0m \u001b[0;32mas\u001b[0m \u001b[0mtf\u001b[0m\u001b[0;34m\u001b[0m\u001b[0;34m\u001b[0m\u001b[0m\n\u001b[0m",
      "\u001b[0;31mModuleNotFoundError\u001b[0m: No module named 'tensorflow'"
     ]
    }
   ],
   "source": [
    "# !pip install -U tensorflow\n",
    "import tensorflow as tf\n"
   ]
  },
  {
   "cell_type": "code",
   "execution_count": null,
   "metadata": {},
   "outputs": [],
   "source": []
  }
 ]
}